{
 "cells": [
  {
   "cell_type": "markdown",
   "id": "894ac4f7-87d7-4c47-8e83-5fa25f06c2ea",
   "metadata": {},
   "source": [
    "1. Un cuaderno Jupyter es un servicio de ejecucion de codigo python online. Esta conformado por un conjunto de celdas en las cuales ponemos nuestro codigo y lo podemos ejecutar, o tambien podemos escribir texto (esas son las celdas de codigo y de texto).\n",
    "2. \n",
    "Un entorno de ejecución en Jupyter se refiere a la instancia de un intérprete (como Python) que ejecuta el código contenido en las celdas de código del cuaderno. Este entorno incluye las variables, las funciones, y el estado general del cuaderno durante la sesión. La duración de una sesión de un entorno de ejecución depende del entorno en el que se esté utilizando Jupyter: Localmente: Si estás ejecutando Jupyter en tu computadora, la sesión dura mientras tengas la aplicación abierta y en ejecución. Si cierras el cuaderno o apagas tu computadora, la sesión termina. En la nube: Si estás usando un servicio en la nube (como Google Colab), la sesión tiene un tiempo de inactividad predeterminado (generalmente 90 minutos de inactividad o 12 horas de ejecución continuada) antes de desconectar el entorno. Esto puede variar dependiendo del proveedor del servicio. Cuando una sesión termina, el entorno se reinicia y se pierden todas las variables y estados almacenados, a menos que se guarden explícitamente en el disco."
   ]
  },
  {
   "cell_type": "code",
   "execution_count": 28,
   "id": "95866791-2e73-4408-b235-edb0d77593ea",
   "metadata": {},
   "outputs": [
    {
     "name": "stdout",
     "output_type": "stream",
     "text": [
      "['jajjajajajaj']\n"
     ]
    }
   ],
   "source": [
    "ruta_arch = \"./asdsad.txt\" # ruta y nombre a archivo a LEER desde su drive \n",
    "f = open(ruta_arch, 'r') # abre archivo para leer \n",
    "print(f.readlines()) # imprime contenido en pantalla \n",
    "f.close() # cierra archivo"
   ]
  },
  {
   "cell_type": "markdown",
   "id": "2efd27e6",
   "metadata": {},
   "source": [
    "# Repaso de Python"
   ]
  },
  {
   "cell_type": "code",
   "execution_count": 29,
   "id": "fe69fba9",
   "metadata": {},
   "outputs": [
    {
     "name": "stdout",
     "output_type": "stream",
     "text": [
      "[1, 2, 3, 'lat']\n",
      "1\n",
      "2\n",
      "3\n",
      "lat\n",
      "('apple', 'bread', 'ñoqui')\n",
      "apple\n",
      "{1, 2, 3, 4, 5, 7}\n",
      "jhonny\n",
      "La gente\n",
      "Esta muy loca\n",
      "dict_items([('name', 'jhonny'), ('noun', 'La gente'), ('que?', 'Esta muy loca')])\n"
     ]
    }
   ],
   "source": [
    "#Ej 1\n",
    "\n",
    "#Lists\n",
    "list = [1,2,3,\"lat\"]\n",
    "print(list)\n",
    "for elem in list:\n",
    "    print(elem)\n",
    "\n",
    "#Tuple\n",
    "tuple = (\"apple\", \"bread\", \"ñoqui\")\n",
    "print(tuple)\n",
    "print(tuple[0])\n",
    "\n",
    "#Sets\n",
    "set1 = {1, 3, 3, 2, 4, 5, 7}\n",
    "print(set1)\n",
    "\n",
    "#Dictionary\n",
    "dict = {\"name\": \"jhonny\", \"noun\": \"La gente\", \"que?\": \"Esta muy loca\"}\n",
    "for key, value in dict.items():\n",
    "    print(value)\n",
    "print(dict.items())"
   ]
  },
  {
   "cell_type": "code",
   "execution_count": 30,
   "id": "d9fe1a1c",
   "metadata": {},
   "outputs": [
    {
     "name": "stdout",
     "output_type": "stream",
     "text": [
      "1 5\n",
      "2 4\n",
      "3 3\n",
      "4 2\n",
      "5 1\n"
     ]
    }
   ],
   "source": [
    "#Ejercicio 2\n",
    "\n",
    "list1 = [1,2,3,4,5]\n",
    "list2 = [5,4,3,2,1]\n",
    "\n",
    "for num1, num2 in zip(list1, list2):\n",
    "    print(num1, num2)"
   ]
  },
  {
   "cell_type": "code",
   "execution_count": 1,
   "id": "c69deb66",
   "metadata": {},
   "outputs": [
    {
     "name": "stdout",
     "output_type": "stream",
     "text": [
      "[1, 2, 2, 4, 3, 3, 5, 7, 6]\n",
      "{1, 2, 3, 4, 5, 6, 7}\n",
      "[1, 2, 3, 4, 5, 6, 7]\n"
     ]
    },
    {
     "data": {
      "text/plain": [
       "[1, 2, 3, 4, 5, 6, 7]"
      ]
     },
     "execution_count": 1,
     "metadata": {},
     "output_type": "execute_result"
    }
   ],
   "source": [
    "#Ejercicio 3\n",
    "\n",
    "my_list = [1, 2, 2, 4, 3, 3, 5, 7, 6]\n",
    "\n",
    "def removeDuplicated(input_list):\n",
    "    # Transformamos la lista en un set y luego nuevamente en una lista\n",
    "    print(input_list)\n",
    "    new_set = set(input_list)\n",
    "    print(new_set)\n",
    "    new_list = list(new_set)\n",
    "    print(new_list)\n",
    "    return new_list\n",
    "\n",
    "removeDuplicated(my_list)\n"
   ]
  },
  {
   "cell_type": "code",
   "execution_count": 2,
   "id": "9a3f003c",
   "metadata": {},
   "outputs": [
    {
     "data": {
      "text/plain": [
       "7.0710678118654755"
      ]
     },
     "execution_count": 2,
     "metadata": {},
     "output_type": "execute_result"
    }
   ],
   "source": [
    "#Ejercicio 4\n",
    "\n",
    "import math\n",
    "def distance_between(x1,y1,x2,y2):\n",
    "    return math.sqrt((x2-x1)**2 + (y2-y1)**2)\n",
    "    \n",
    "distance_between(2, 5, 10, 10)"
   ]
  },
  {
   "cell_type": "code",
   "execution_count": 5,
   "id": "6bdac52f",
   "metadata": {},
   "outputs": [
    {
     "name": "stdout",
     "output_type": "stream",
     "text": [
      "[20, 30, 40]\n",
      "('a', 'b')\n",
      "('d', 'e')\n"
     ]
    }
   ],
   "source": [
    "my_list = [10, 20, 30, 40, 50, 60, 70, 80, 90]\n",
    "sub_list = my_list[1:4] #Sin incluir 4\n",
    "print(sub_list)\n",
    "\n",
    "a = (\"a\", \"b\", \"c\", \"d\", \"e\", \"f\", \"g\", \"h\")\n",
    "x = slice(2) #\n",
    "print(a[x])\n",
    "\n",
    "a = (\"a\", \"b\", \"c\", \"d\", \"e\", \"f\", \"g\", \"h\")\n",
    "x = slice(3, 5) #sin incluir 5\n",
    "print(a[x])"
   ]
  },
  {
   "cell_type": "markdown",
   "id": "24514972",
   "metadata": {},
   "source": [
    "# Biblioteca NumPy"
   ]
  },
  {
   "cell_type": "markdown",
   "id": "8f5969d2",
   "metadata": {},
   "source": [
    "* numpy.array convierte una lista, tupla u otra estructura de datos similar en un arreglo NumPy. Uso: Útil cuando ya tienes los datos y solo deseas convertirlos en un arreglo de NumPy.\n",
    "\n",
    "* numpy.empty crea un arreglo sin inicializar sus valores, lo que significa que contendrá los datos que ya estaban en la memoria. Uso: Útil cuando planeas llenar el arreglo inmediatamente después de crearlo, y no te importa el valor inicial. Es más rápido que zeros o ones.\n",
    "\n",
    "* numpy.full Crea un arreglo y lo llena con un valor específico. Uso: Útil cuando necesitas un arreglo donde todos los elementos tengan el mismo valor.\n",
    "\n",
    "* numpy.zeros Crea un arreglo lleno de ceros. Uso: Útil cuando necesitas un arreglo de ceros como punto de partida.\n",
    "\n",
    "* numpy.identity Crea una matriz identidad (una matriz cuadrada con unos en la diagonal principal y ceros en el resto). Uso: Específico para trabajar con álgebra lineal, donde las matrices identidad son comunes.\n",
    "\n",
    "TIPOS DE DATOS:\n",
    "* int (enteros)\n",
    "* float (flotantes)\n",
    "* complex (números complejos)\n",
    "* bool (booleanos)\n",
    "* str (cadenas de texto)\n",
    "* object (objetos generales)\n",
    "\n",
    "* Los tipos de datos difieren en el tamaño de los datos que pueden almacenar y en la precisión (por ejemplo, float32 vs float64).\n",
    "El tipo de dato predeterminado en NumPy es generalmente float64 para arreglos de números, pero esto puede cambiar dependiendo de cómo se crea el arreglo.\n",
    "El tipo de dato predeterminado para la mayoría de los constructores (zeros, ones, etc.) es float64, pero puedes especificar el tipo usando el parámetro dtype.\n",
    "No es siempre el mismo; por ejemplo, en numpy.identity, el tipo por defecto es float.\n"
   ]
  },
  {
   "cell_type": "code",
   "execution_count": 2,
   "id": "d3dce2d0",
   "metadata": {},
   "outputs": [
    {
     "name": "stdout",
     "output_type": "stream",
     "text": [
      "array [1 2 3 4]\n",
      "empty [[7.56605240e-307 7.56587584e-307 1.37961302e-306]\n",
      " [1.05699242e-307 1.78022342e-306 8.34449382e-308]]\n",
      "full [[7 7 7]\n",
      " [7 7 7]]\n",
      "zeros [[0. 0. 0.]\n",
      " [0. 0. 0.]]\n",
      "identity [[1. 0. 0.]\n",
      " [0. 1. 0.]\n",
      " [0. 0. 1.]]\n"
     ]
    }
   ],
   "source": [
    "import numpy as np\n",
    "\n",
    "arr = np.array([1, 2, 3, 4])\n",
    "print(\"array\", arr)\n",
    "\n",
    "arr = np.empty((2, 3))\n",
    "print(\"empty\",arr)\n",
    "\n",
    "arr = np.full((2, 3), 7) #2 rows, 3 columns, full of number 7\n",
    "print(\"full\",arr)\n",
    "\n",
    "arr = np.zeros((2, 3))\n",
    "print(\"zeros\",arr)\n",
    "\n",
    "arr = np.identity(3)\n",
    "print(\"identity\",arr)"
   ]
  },
  {
   "cell_type": "code",
   "execution_count": 9,
   "id": "139dcf09",
   "metadata": {},
   "outputs": [
    {
     "name": "stdout",
     "output_type": "stream",
     "text": [
      "(2, 3)\n",
      "2\n",
      "2\n",
      "6\n"
     ]
    }
   ],
   "source": [
    "#Funciones relacionadas al tamaño del array\n",
    "\n",
    "arr = np.array([[1, 2, 3], [4, 5, 6]])\n",
    "print(arr.shape) #Devuelve una tupla que indica el tamaño de cada dimensión del array.\n",
    "\n",
    "\n",
    "arr = np.array([[1, 2, 3], [4, 5, 6]])\n",
    "print(len(arr)) #Devuelve el tamaño de la primera dimensión del array (es decir, el número de elementos en la primera dimensión).\n",
    "\n",
    "\n",
    "arr = np.array([[1, 2, 3], [4, 5, 6]])\n",
    "print(arr.ndim) #Devuelve el número de dimensiones (o ejes) del array.\n",
    "\n",
    "\n",
    "arr = np.array([[1, 2, 3], [4, 5, 6]])\n",
    "print(arr.size) #Devuelve el número total de elementos en el array.\n",
    "\n",
    "\n"
   ]
  },
  {
   "cell_type": "markdown",
   "id": "734f8d79",
   "metadata": {},
   "source": [
    "**Aplicación sobre Dimensiones Específicas**\n",
    "Axis (axis): La mayoría de estas funciones de agregación en NumPy aceptan un argumento axis que determina sobre qué dimensión se aplicará la operación.\n",
    "* axis=0: La operación se aplica a lo largo de las columnas.\n",
    "* axis=1: La operación se aplica a lo largo de las filas.\n",
    "* axis=None: (por defecto) La operación se aplica a todos los elementos del array, sin importar la dimensión."
   ]
  },
  {
   "cell_type": "code",
   "execution_count": 20,
   "id": "bdc2015c",
   "metadata": {},
   "outputs": [
    {
     "name": "stdout",
     "output_type": "stream",
     "text": [
      "21 [ 6 15] [5 7 9]\n",
      "1\n",
      "6\n",
      "3.5\n",
      "3.5\n",
      "1.707825127659933\n",
      "720\n",
      "[ 1  3  6 10 15 21]\n"
     ]
    }
   ],
   "source": [
    "#Ejercicio 3\n",
    "\n",
    "arr = np.array([[1, 2, 3], [4, 5, 6]])\n",
    "total_sum = arr.sum() #Suma todos los elementos del array.\n",
    "sum_by_row = arr.sum(axis=1)  # Suma por filas\n",
    "sum_by_column = arr.sum(axis=0)  # Suma por columnas\n",
    "print(total_sum, sum_by_row, sum_by_column)\n",
    "\n",
    "min_value = arr.min() #Encuentra el valor mínimo en el array. Se puede aplicar sobre una dimension como en el caso anterior\n",
    "print(min_value)\n",
    "max_value = arr.max()\n",
    "print(max_value)\n",
    "\n",
    "mean_value = arr.mean() #Calcula la media (promedio) de los elementos del array.\n",
    "print(mean_value)\n",
    "\n",
    "std_value = arr.std() #Calcula la desviación estándar de los elementos del array.\n",
    "print(mean_value)\n",
    "\n",
    "var_value = arr.var() #Calcula la varianza de los elementos del array.\n",
    "print(std_value)\n",
    "\n",
    "prod_value = arr.prod()\n",
    "print(prod_value)\n",
    "\n",
    "cumsum_value = arr.cumsum()\n",
    "print(cumsum_value)\n",
    "\n",
    "cumprod_value = arr.cumprod()\n",
    "print(cumprod_value)\n"
   ]
  },
  {
   "cell_type": "markdown",
   "id": "3db43032",
   "metadata": {},
   "source": [
    "**Aplicación de las Funciones**\n",
    "* Manipulación de Elementos: Las funciones como append, insert, delete, y resize son útiles para modificar el contenido de un array sin cambiar su estructura global.\n",
    "\n",
    "* Manipulación entre Arreglos: Funciones como concatenate, vstack, hstack, split, y tile permiten combinar o dividir arrays de maneras diferentes, facilitando la creación de estructuras más complejas o la reorganización de datos.\n",
    "\n",
    "Estas herramientas son fundamentales para manejar datos en proyectos de procesamiento numérico, análisis de datos, y ciencia de datos, donde la flexibilidad y eficiencia en la manipulación de arrays es clave."
   ]
  },
  {
   "cell_type": "code",
   "execution_count": 35,
   "id": "d371cbaa",
   "metadata": {},
   "outputs": [
    {
     "name": "stdout",
     "output_type": "stream",
     "text": [
      "append: [4 5 6 1 2 3]\n",
      "insert: [1 9 8 2 3]\n",
      "delete: [1 3 5]\n",
      "resize: [[1 2 3]\n",
      " [1 2 3]]\n",
      "flipped: [4 3 2 1]\n",
      "concatenated: [1 2 3 4 5 6]\n",
      "concatenated vertical: [[1 2]\n",
      " [3 4]\n",
      " [5 6]\n",
      " [7 8]]\n",
      "stacked: [[1 2 3]\n",
      " [4 5 6]]\n",
      "stacked horizontal: [1 2 3 4 5 6]\n",
      "split: [array([1, 2]), array([3, 4]), array([5, 6])]\n",
      "tiled: [1 2 3 1 2 3]\n",
      "repeated: [1 1 2 2 3 3]\n"
     ]
    }
   ],
   "source": [
    "# Ejercicio 4\n",
    "\n",
    "arr = np.array([1, 2, 3])\n",
    "new_arr = np.append( [4, 5, 6], arr) #Agrega elementos al final de un array. Devuelve un nuevo array extendido.\n",
    "print(\"append:\", new_arr)\n",
    "\n",
    "new_arr = np.insert(arr, 1, [9, 8])  # Inserta elementos en un array en la posición especificada. Devuelve un nuevo array.\n",
    "print(\"insert:\",new_arr)\n",
    "\n",
    "arr = np.array([1, 2, 3, 4, 5])\n",
    "new_arr = np.delete(arr, [1, 3])  # Elimina los elementos en las posiciones 1 y 3\n",
    "print(\"delete:\",new_arr)\n",
    "\n",
    "arr = np.array([1, 2, 3])\n",
    "resized_arr = np.resize(arr, (2, 3))  # Cambia el tamaño a 2x3. Rellena con ceros? si es necesario o recortando los elementos sobrantes.\n",
    "print(\"resize:\",resized_arr)\n",
    "\n",
    "arr = np.array([1, 2, 3, 4])\n",
    "flipped_arr = np.flip(arr) #Invierte el orden de los elementos en un array a lo largo de un eje dado.\n",
    "print(\"flipped:\",flipped_arr)\n",
    "\n",
    "arr1 = np.array([1, 2, 3])\n",
    "arr2 = np.array([4, 5, 6])\n",
    "concatenated_arr = np.concatenate((arr1, arr2))\n",
    "print(\"concatenated:\",concatenated_arr)\n",
    "#En dos dimensiones:\n",
    "arr1 = np.array([[1, 2], [3, 4]])\n",
    "arr2 = np.array([[5, 6], [7, 8]])\n",
    "concatenated_arr = np.concatenate((arr1, arr2), axis=0)  # Concatenación vertical\n",
    "print(\"concatenated vertical:\",concatenated_arr)\n",
    "\n",
    "arr1 = np.array([1, 2, 3])\n",
    "arr2 = np.array([4, 5, 6])\n",
    "stacked_arr = np.vstack((arr1, arr2)) #Apila arrays en sentido vertical (a lo largo de filas).\n",
    "print(\"stacked:\",stacked_arr)\n",
    "\n",
    "arr1 = np.array([1, 2, 3])\n",
    "arr2 = np.array([4, 5, 6])\n",
    "stacked_arr = np.hstack((arr1, arr2)) #Apila arrays en sentido horizontal (a lo largo de columnas).\n",
    "print(\"stacked horizontal:\",stacked_arr)\n",
    "\n",
    "arr = np.array([1, 2, 3, 4, 5, 6])\n",
    "split_arr = np.split(arr, 3)  # Divide en 3 sub-arrays\n",
    "print(\"split:\",split_arr)\n",
    "\n",
    "arr = np.array([1, 2, 3])\n",
    "tiled_arr = np.tile(arr, 2)  # Repite el array 2 veces\n",
    "print(\"tiled:\",tiled_arr)\n",
    "\n",
    "arr = np.array([1, 2, 3])\n",
    "repeated_arr = np.repeat(arr, 2)  # Repite cada elemento 2 veces\n",
    "print(\"repeated:\",repeated_arr)\n"
   ]
  },
  {
   "cell_type": "markdown",
   "id": "beac6ab5",
   "metadata": {},
   "source": [
    "* Slicing en Vectores (1D): Permite seleccionar y modificar partes específicas del vector.\n",
    "* Slicing en Matrices (2D): Facilita el acceso y modificación de submatrices.\n",
    "* Slicing en Tensores (3D): Permite trabajar con secciones complejas de un tensor.\n",
    "* Uso de Step (start:stop:step): Te da control sobre el acceso de elementos con saltos.\n",
    "Este mecanismo de slicing es muy poderoso y flexible, y se puede utilizar en una variedad de situaciones para manipular arrays de manera eficiente en NumPy."
   ]
  },
  {
   "cell_type": "code",
   "execution_count": 41,
   "id": "7c48db1a",
   "metadata": {},
   "outputs": [
    {
     "name": "stdout",
     "output_type": "stream",
     "text": [
      "Subvector: [20 30 40]\n",
      "Vector modificado: [ 10  20 300 400  50  60]\n",
      "Submatriz:\n",
      " [[2 3]\n",
      " [5 6]]\n",
      "Matriz modificada:\n",
      " [[ 1 20 30]\n",
      " [ 4 50 60]\n",
      " [ 7  8  9]]\n",
      "Subtensor:\n",
      " [[[ 2  3]\n",
      "  [ 5  6]]\n",
      "\n",
      " [[11 12]\n",
      "  [14 15]]\n",
      "\n",
      " [[20 21]\n",
      "  [23 24]]]\n",
      "Vector con step: [ 10 300  50]\n",
      "Matriz con step:\n",
      " [[ 1 30]\n",
      " [ 7  9]]\n"
     ]
    }
   ],
   "source": [
    "#Ejercicio 5\n",
    "\n",
    "import numpy as np\n",
    "\n",
    "vector = np.array([10, 20, 30, 40, 50, 60])\n",
    "\n",
    "# Acceder a los elementos de índice 1 a 4 (excluyendo 4)\n",
    "print(\"Subvector:\", vector[1:4])\n",
    "\n",
    "# Modificar los elementos del índice 2 a 4 (excluyendo 4)\n",
    "vector[2:4] = [300, 400]\n",
    "print(\"Vector modificado:\", vector)\n",
    "\n",
    "#En matrices (2D):\n",
    "matriz = np.array([[1, 2, 3], [4, 5, 6], [7, 8, 9]])\n",
    "\n",
    "# Acceder a las filas 0 a 2 y columnas 1 a 3 (excluyendo 3)\n",
    "print(\"Submatriz:\\n\", matriz[0:2, 1:3])\n",
    "\n",
    "# Modificar la submatriz seleccionada\n",
    "matriz[0:2, 1:3] = [[20, 30], [50, 60]]\n",
    "print(\"Matriz modificada:\\n\", matriz)\n",
    "\n",
    "# Tensor de ejemplo (3x3x3)\n",
    "tensor = np.array([[[1, 2, 3], [4, 5, 6], [7, 8, 9]],\n",
    "                   [[10, 11, 12], [13, 14, 15], [16, 17, 18]],\n",
    "                   [[19, 20, 21], [22, 23, 24], [25, 26, 27]]])\n",
    "\n",
    "# Acceder a la slice del tensor que incluye todas las \"capas\", pero solo las filas 0 a 2 y columnas 1 a 3\n",
    "print(\"Subtensor:\\n\", tensor[:, 0:2, 1:3])\n",
    "\n",
    "# Acceder a cada segundo elemento del vector\n",
    "print(\"Vector con step:\", vector[::2])\n",
    "\n",
    "\n",
    "# Acceder a cada segunda fila y cada segunda columna de la matriz\n",
    "print(\"Matriz con step:\\n\", matriz[::2, ::2])\n",
    "\n",
    "\n"
   ]
  },
  {
   "cell_type": "code",
   "execution_count": 2,
   "id": "2d3ca7eb",
   "metadata": {},
   "outputs": [],
   "source": [
    "import pandas as pd"
   ]
  },
  {
   "cell_type": "code",
   "execution_count": 12,
   "id": "47b9ea2b",
   "metadata": {},
   "outputs": [
    {
     "name": "stdout",
     "output_type": "stream",
     "text": [
      "  Nombre  Edad       País\n",
      "0   Juan    20  Argentina\n",
      "1  María    26       Peru\n",
      "2  Pedro    18     Brasil\n",
      "3   José    22      Chile\n",
      "Index(['Nombre', 'Edad', 'País'], dtype='object')\n",
      "  Nombre  Edad       País\n",
      "0   Juan    20  Argentina\n",
      "1  María    26       Peru\n",
      "2  Pedro    18     Brasil\n",
      "3   José    22      Chile\n",
      "4  Pablo    30   Colombia\n",
      "  Nombre  Edad       País\n",
      "0   Juan    20  Argentina\n",
      "1  María    26       Peru\n",
      "2  Pedro    18     Brasil\n",
      "3   José    22      Chile\n",
      "4  Pablo    30   Colombia\n",
      "5   Tibu    20  Argentina\n",
      "  Nombre  Edad       País\n",
      "0   Juan    20  Argentina\n",
      "1  María    26       Peru\n",
      "2  Pedro    18     Brasil\n",
      "3   José    22      Chile\n",
      "4  Pablo    30   Colombia\n",
      "5   Tibu    20  Argentina\n",
      "6  Pedro    18     Brasil\n"
     ]
    }
   ],
   "source": [
    "#Creo diccionario para dsp pasarlo a dataframe\n",
    "data = {\n",
    "    'Nombre': ['Juan', 'María', 'Pedro', 'José'],\n",
    "    'Edad': [20, 26, 18, 22],\n",
    "    'País': ['Argentina', 'Peru', 'Brasil', 'Chile']\n",
    "}\n",
    "dataframe=pd.DataFrame(data)\n",
    "print(dataframe)\n",
    "\n",
    "#Imprimo nombre de columnas:\n",
    "print(dataframe.columns)\n",
    "\n",
    "#Una forma de agregar a Pablo de 30 años de Colombia es:\n",
    "#Agrego una nueva fila con loc\n",
    "dataframe.loc[len(dataframe)] = [\"Pablo\", 30, \"Colombia\"]\n",
    "print(dataframe)\n",
    "#La funcion append para agregar quedo oobsoleta\n",
    "#Otra forma de agregar es:\n",
    "new_row=pd.DataFrame({\"Nombre\":[\"Tibu\"], \"Edad\": [20], \"País\":[\"Argentina\"]})\n",
    "dataframe= pd.concat([dataframe, new_row], ignore_index=True)\n",
    "print(dataframe)\n",
    "\n",
    "\n",
    "#Agregamos al pedro repetido:\n",
    "dataframe.loc[len(dataframe)] = [\"Pedro\", 18, \"Brasil\"]\n",
    "print(dataframe)\n",
    "#Eliminamos duplicados:\n",
    "dataframe = dataframe.drop_duplicates()\n",
    "print(dataframe)\n"
   ]
  }
 ],
 "metadata": {
  "kernelspec": {
   "display_name": "Python 3 (ipykernel)",
   "language": "python",
   "name": "python3"
  },
  "language_info": {
   "codemirror_mode": {
    "name": "ipython",
    "version": 3
   },
   "file_extension": ".py",
   "mimetype": "text/x-python",
   "name": "python",
   "nbconvert_exporter": "python",
   "pygments_lexer": "ipython3",
   "version": "3.12.4"
  }
 },
 "nbformat": 4,
 "nbformat_minor": 5
}
